{
 "cells": [
  {
   "cell_type": "code",
   "execution_count": 11,
   "metadata": {},
   "outputs": [
    {
     "data": {
      "text/html": [
       "<div>\n",
       "<style scoped>\n",
       "    .dataframe tbody tr th:only-of-type {\n",
       "        vertical-align: middle;\n",
       "    }\n",
       "\n",
       "    .dataframe tbody tr th {\n",
       "        vertical-align: top;\n",
       "    }\n",
       "\n",
       "    .dataframe thead th {\n",
       "        text-align: right;\n",
       "    }\n",
       "</style>\n",
       "<table border=\"1\" class=\"dataframe\">\n",
       "  <thead>\n",
       "    <tr style=\"text-align: right;\">\n",
       "      <th></th>\n",
       "      <th>Consumo</th>\n",
       "      <th>Estado_Civil</th>\n",
       "      <th>Genero</th>\n",
       "      <th>Idade</th>\n",
       "      <th>Renda_Mensal</th>\n",
       "      <th>Possui_Imovel_Proprio</th>\n",
       "    </tr>\n",
       "  </thead>\n",
       "  <tbody>\n",
       "    <tr>\n",
       "      <th>0</th>\n",
       "      <td>2595</td>\n",
       "      <td>Divorciado</td>\n",
       "      <td>Feminino</td>\n",
       "      <td>20.26</td>\n",
       "      <td>1985.88</td>\n",
       "      <td>Sim</td>\n",
       "    </tr>\n",
       "    <tr>\n",
       "      <th>1</th>\n",
       "      <td>8470</td>\n",
       "      <td>Casado</td>\n",
       "      <td>Feminino</td>\n",
       "      <td>32.11</td>\n",
       "      <td>3769.25</td>\n",
       "      <td>Sim</td>\n",
       "    </tr>\n",
       "    <tr>\n",
       "      <th>2</th>\n",
       "      <td>4007</td>\n",
       "      <td>Divorciado</td>\n",
       "      <td>Masculino</td>\n",
       "      <td>31.75</td>\n",
       "      <td>2291.88</td>\n",
       "      <td>Nao</td>\n",
       "    </tr>\n",
       "    <tr>\n",
       "      <th>3</th>\n",
       "      <td>6734</td>\n",
       "      <td>Casado</td>\n",
       "      <td>Feminino</td>\n",
       "      <td>37.82</td>\n",
       "      <td>2390.40</td>\n",
       "      <td>Sim</td>\n",
       "    </tr>\n",
       "    <tr>\n",
       "      <th>4</th>\n",
       "      <td>33628</td>\n",
       "      <td>Solteiro</td>\n",
       "      <td>Feminino</td>\n",
       "      <td>71.21</td>\n",
       "      <td>8534.72</td>\n",
       "      <td>Nao</td>\n",
       "    </tr>\n",
       "    <tr>\n",
       "      <th>5</th>\n",
       "      <td>3903</td>\n",
       "      <td>Divorciado</td>\n",
       "      <td>Feminino</td>\n",
       "      <td>29.72</td>\n",
       "      <td>2495.89</td>\n",
       "      <td>Nao</td>\n",
       "    </tr>\n",
       "    <tr>\n",
       "      <th>6</th>\n",
       "      <td>13444</td>\n",
       "      <td>Solteiro</td>\n",
       "      <td>Feminino</td>\n",
       "      <td>44.81</td>\n",
       "      <td>5714.55</td>\n",
       "      <td>Nao</td>\n",
       "    </tr>\n",
       "    <tr>\n",
       "      <th>7</th>\n",
       "      <td>12560</td>\n",
       "      <td>Solteiro</td>\n",
       "      <td>Feminino</td>\n",
       "      <td>35.84</td>\n",
       "      <td>5832.63</td>\n",
       "      <td>Sim</td>\n",
       "    </tr>\n",
       "    <tr>\n",
       "      <th>8</th>\n",
       "      <td>31176</td>\n",
       "      <td>Solteiro</td>\n",
       "      <td>Feminino</td>\n",
       "      <td>58.84</td>\n",
       "      <td>6882.89</td>\n",
       "      <td>Sim</td>\n",
       "    </tr>\n",
       "    <tr>\n",
       "      <th>9</th>\n",
       "      <td>5435</td>\n",
       "      <td>Casado</td>\n",
       "      <td>Masculino</td>\n",
       "      <td>39.92</td>\n",
       "      <td>2099.32</td>\n",
       "      <td>Nao</td>\n",
       "    </tr>\n",
       "    <tr>\n",
       "      <th>10</th>\n",
       "      <td>26736</td>\n",
       "      <td>Solteiro</td>\n",
       "      <td>Masculino</td>\n",
       "      <td>58.06</td>\n",
       "      <td>6342.51</td>\n",
       "      <td>Nao</td>\n",
       "    </tr>\n",
       "    <tr>\n",
       "      <th>11</th>\n",
       "      <td>3728</td>\n",
       "      <td>Divorciado</td>\n",
       "      <td>Masculino</td>\n",
       "      <td>21.78</td>\n",
       "      <td>1941.15</td>\n",
       "      <td>Nao</td>\n",
       "    </tr>\n",
       "    <tr>\n",
       "      <th>12</th>\n",
       "      <td>8684</td>\n",
       "      <td>Solteiro</td>\n",
       "      <td>Feminino</td>\n",
       "      <td>31.75</td>\n",
       "      <td>3575.98</td>\n",
       "      <td>Nao</td>\n",
       "    </tr>\n",
       "    <tr>\n",
       "      <th>13</th>\n",
       "      <td>8356</td>\n",
       "      <td>Solteiro</td>\n",
       "      <td>Feminino</td>\n",
       "      <td>37.82</td>\n",
       "      <td>3589.24</td>\n",
       "      <td>Nao</td>\n",
       "    </tr>\n",
       "    <tr>\n",
       "      <th>14</th>\n",
       "      <td>36936</td>\n",
       "      <td>Solteiro</td>\n",
       "      <td>Masculino</td>\n",
       "      <td>71.21</td>\n",
       "      <td>8534.72</td>\n",
       "      <td>Nao</td>\n",
       "    </tr>\n",
       "    <tr>\n",
       "      <th>15</th>\n",
       "      <td>3744</td>\n",
       "      <td>Divorciado</td>\n",
       "      <td>Masculino</td>\n",
       "      <td>18.24</td>\n",
       "      <td>2740.47</td>\n",
       "      <td>Sim</td>\n",
       "    </tr>\n",
       "    <tr>\n",
       "      <th>16</th>\n",
       "      <td>30420</td>\n",
       "      <td>Solteiro</td>\n",
       "      <td>Feminino</td>\n",
       "      <td>61.54</td>\n",
       "      <td>5714.55</td>\n",
       "      <td>Nao</td>\n",
       "    </tr>\n",
       "    <tr>\n",
       "      <th>17</th>\n",
       "      <td>5958</td>\n",
       "      <td>Divorciado</td>\n",
       "      <td>Masculino</td>\n",
       "      <td>35.84</td>\n",
       "      <td>2390.40</td>\n",
       "      <td>Sim</td>\n",
       "    </tr>\n",
       "    <tr>\n",
       "      <th>18</th>\n",
       "      <td>1019</td>\n",
       "      <td>Divorciado</td>\n",
       "      <td>Feminino</td>\n",
       "      <td>20.26</td>\n",
       "      <td>1635.65</td>\n",
       "      <td>Nao</td>\n",
       "    </tr>\n",
       "    <tr>\n",
       "      <th>19</th>\n",
       "      <td>11688</td>\n",
       "      <td>Solteiro</td>\n",
       "      <td>Feminino</td>\n",
       "      <td>39.92</td>\n",
       "      <td>4364.56</td>\n",
       "      <td>Nao</td>\n",
       "    </tr>\n",
       "    <tr>\n",
       "      <th>20</th>\n",
       "      <td>4442</td>\n",
       "      <td>Casado</td>\n",
       "      <td>Masculino</td>\n",
       "      <td>37.91</td>\n",
       "      <td>1905.54</td>\n",
       "      <td>Nao</td>\n",
       "    </tr>\n",
       "    <tr>\n",
       "      <th>21</th>\n",
       "      <td>2640</td>\n",
       "      <td>Solteiro</td>\n",
       "      <td>Masculino</td>\n",
       "      <td>23.36</td>\n",
       "      <td>2338.31</td>\n",
       "      <td>Sim</td>\n",
       "    </tr>\n",
       "    <tr>\n",
       "      <th>22</th>\n",
       "      <td>23888</td>\n",
       "      <td>Solteiro</td>\n",
       "      <td>Masculino</td>\n",
       "      <td>54.99</td>\n",
       "      <td>5832.63</td>\n",
       "      <td>Sim</td>\n",
       "    </tr>\n",
       "    <tr>\n",
       "      <th>23</th>\n",
       "      <td>25844</td>\n",
       "      <td>Solteiro</td>\n",
       "      <td>Masculino</td>\n",
       "      <td>61.30</td>\n",
       "      <td>6882.89</td>\n",
       "      <td>Nao</td>\n",
       "    </tr>\n",
       "    <tr>\n",
       "      <th>24</th>\n",
       "      <td>7430</td>\n",
       "      <td>Casado</td>\n",
       "      <td>Masculino</td>\n",
       "      <td>34.59</td>\n",
       "      <td>3842.54</td>\n",
       "      <td>Nao</td>\n",
       "    </tr>\n",
       "    <tr>\n",
       "      <th>25</th>\n",
       "      <td>10276</td>\n",
       "      <td>Solteiro</td>\n",
       "      <td>Feminino</td>\n",
       "      <td>29.72</td>\n",
       "      <td>4919.15</td>\n",
       "      <td>Nao</td>\n",
       "    </tr>\n",
       "    <tr>\n",
       "      <th>26</th>\n",
       "      <td>3381</td>\n",
       "      <td>Casado</td>\n",
       "      <td>Feminino</td>\n",
       "      <td>19.26</td>\n",
       "      <td>2063.01</td>\n",
       "      <td>Nao</td>\n",
       "    </tr>\n",
       "    <tr>\n",
       "      <th>27</th>\n",
       "      <td>3512</td>\n",
       "      <td>Casado</td>\n",
       "      <td>Masculino</td>\n",
       "      <td>20.26</td>\n",
       "      <td>2380.56</td>\n",
       "      <td>Nao</td>\n",
       "    </tr>\n",
       "    <tr>\n",
       "      <th>28</th>\n",
       "      <td>4957</td>\n",
       "      <td>Casado</td>\n",
       "      <td>Feminino</td>\n",
       "      <td>37.81</td>\n",
       "      <td>1985.88</td>\n",
       "      <td>Nao</td>\n",
       "    </tr>\n",
       "  </tbody>\n",
       "</table>\n",
       "</div>"
      ],
      "text/plain": [
       "    Consumo Estado_Civil     Genero  Idade  Renda_Mensal Possui_Imovel_Proprio\n",
       "0      2595   Divorciado   Feminino  20.26       1985.88                   Sim\n",
       "1      8470       Casado   Feminino  32.11       3769.25                   Sim\n",
       "2      4007   Divorciado  Masculino  31.75       2291.88                   Nao\n",
       "3      6734       Casado   Feminino  37.82       2390.40                   Sim\n",
       "4     33628     Solteiro   Feminino  71.21       8534.72                   Nao\n",
       "5      3903   Divorciado   Feminino  29.72       2495.89                   Nao\n",
       "6     13444     Solteiro   Feminino  44.81       5714.55                   Nao\n",
       "7     12560     Solteiro   Feminino  35.84       5832.63                   Sim\n",
       "8     31176     Solteiro   Feminino  58.84       6882.89                   Sim\n",
       "9      5435       Casado  Masculino  39.92       2099.32                   Nao\n",
       "10    26736     Solteiro  Masculino  58.06       6342.51                   Nao\n",
       "11     3728   Divorciado  Masculino  21.78       1941.15                   Nao\n",
       "12     8684     Solteiro   Feminino  31.75       3575.98                   Nao\n",
       "13     8356     Solteiro   Feminino  37.82       3589.24                   Nao\n",
       "14    36936     Solteiro  Masculino  71.21       8534.72                   Nao\n",
       "15     3744   Divorciado  Masculino  18.24       2740.47                   Sim\n",
       "16    30420     Solteiro   Feminino  61.54       5714.55                   Nao\n",
       "17     5958   Divorciado  Masculino  35.84       2390.40                   Sim\n",
       "18     1019   Divorciado   Feminino  20.26       1635.65                   Nao\n",
       "19    11688     Solteiro   Feminino  39.92       4364.56                   Nao\n",
       "20     4442       Casado  Masculino  37.91       1905.54                   Nao\n",
       "21     2640     Solteiro  Masculino  23.36       2338.31                   Sim\n",
       "22    23888     Solteiro  Masculino  54.99       5832.63                   Sim\n",
       "23    25844     Solteiro  Masculino  61.30       6882.89                   Nao\n",
       "24     7430       Casado  Masculino  34.59       3842.54                   Nao\n",
       "25    10276     Solteiro   Feminino  29.72       4919.15                   Nao\n",
       "26     3381       Casado   Feminino  19.26       2063.01                   Nao\n",
       "27     3512       Casado  Masculino  20.26       2380.56                   Nao\n",
       "28     4957       Casado   Feminino  37.81       1985.88                   Nao"
      ]
     },
     "execution_count": 11,
     "metadata": {},
     "output_type": "execute_result"
    }
   ],
   "source": [
    "import pandas as pd\n",
    "import matplotlib.pyplot as plt\n",
    "from scipy import stats\n",
    "\n",
    "# Criando um DataFrame com os dados\n",
    "data = {\n",
    "    'Consumo': [2595, 8470, 4007, 6734, 33628, 3903, 13444, 12560, 31176, 5435, 26736, 3728, 8684, 8356, 36936, 3744, 30420, 5958, 1019, 11688, 4442, 2640, 23888, 25844, 7430, 10276, 3381, 3512, 4957],\n",
    "    'Estado_Civil': [\"Divorciado\", \"Casado\", \"Divorciado\", \"Casado\", \"Solteiro\", \"Divorciado\", \"Solteiro\", \"Solteiro\", \"Solteiro\", \"Casado\", \"Solteiro\", \"Divorciado\", \"Solteiro\", \"Solteiro\", \"Solteiro\", \"Divorciado\", \"Solteiro\", \"Divorciado\", \"Divorciado\", \"Solteiro\", \"Casado\", \"Solteiro\", \"Solteiro\", \"Solteiro\", \"Casado\", \"Solteiro\", \"Casado\", \"Casado\", \"Casado\"],\n",
    "    'Genero': [\"Feminino\", \"Feminino\", \"Masculino\", \"Feminino\", \"Feminino\", \"Feminino\", \"Feminino\", \"Feminino\", \"Feminino\", \"Masculino\", \"Masculino\", \"Masculino\", \"Feminino\", \"Feminino\", \"Masculino\", \"Masculino\", \"Feminino\", \"Masculino\", \"Feminino\", \"Feminino\", \"Masculino\", \"Masculino\", \"Masculino\", \"Masculino\", \"Masculino\", \"Feminino\", \"Feminino\", \"Masculino\", \"Feminino\"],\n",
    "    'Idade': [20.26, 32.11, 31.75, 37.82, 71.21, 29.72, 44.81, 35.84, 58.84, 39.92, 58.06, 21.78, 31.75, 37.82, 71.21, 18.24, 61.54, 35.84, 20.26, 39.92, 37.91, 23.36, 54.99, 61.30, 34.59, 29.72, 19.26, 20.26, 37.81],\n",
    "    'Renda_Mensal': [1985.88, 3769.25, 2291.88, 2390.40, 8534.72, 2495.89, 5714.55, 5832.63, 6882.89, 2099.32, 6342.51, 1941.15, 3575.98, 3589.24, 8534.72, 2740.47, 5714.55, 2390.40, 1635.65, 4364.56, 1905.54, 2338.31, 5832.63, 6882.89, 3842.54, 4919.15, 2063.01, 2380.56, 1985.88],\n",
    "    'Possui_Imovel_Proprio': [\"Sim\", \"Sim\", \"Nao\", \"Sim\", \"Nao\", \"Nao\", \"Nao\", \"Sim\", \"Sim\", \"Nao\", \"Nao\", \"Nao\", \"Nao\", \"Nao\", \"Nao\", \"Sim\", \"Nao\", \"Sim\", \"Nao\", \"Nao\", \"Nao\", \"Sim\", \"Sim\", \"Nao\", \"Nao\", \"Nao\", \"Nao\", \"Nao\", \"Nao\"]\n",
    "}\n",
    "\n",
    "df = pd.DataFrame(data)\n",
    "\n",
    "# Visualizando os dados\n",
    "df\n",
    "\n",
    "\n",
    "\n"
   ]
  },
  {
   "cell_type": "code",
   "execution_count": 12,
   "metadata": {},
   "outputs": [
    {
     "data": {
      "image/png": "[encoded data removed]",
      "text/plain": [
       "<Figure size 640x480 with 1 Axes>"
      ]
     },
     "metadata": {},
     "output_type": "display_data"
    },
    {
     "data": {
      "image/png": "[encoded data removed]",
      "text/plain": [
       "<Figure size 640x480 with 1 Axes>"
      ]
     },
     "metadata": {},
     "output_type": "display_data"
    },
    {
     "name": "stdout",
     "output_type": "stream",
     "text": [
      "count       29.000000\n",
      "mean     11916.931034\n",
      "std      10909.838603\n",
      "min       1019.000000\n",
      "25%       3903.000000\n",
      "50%       7430.000000\n",
      "75%      13444.000000\n",
      "max      36936.000000\n",
      "Name: Consumo, dtype: float64\n"
     ]
    }
   ],
   "source": [
    "# Histograma do consumo\n",
    "plt.hist(df['Consumo'], bins=10)\n",
    "plt.xlabel('Consumo')\n",
    "plt.ylabel('Frequência')\n",
    "plt.title('Histograma de Consumo')\n",
    "plt.show()\n",
    "\n",
    "# Boxplot do consumo\n",
    "plt.boxplot(df['Consumo'])\n",
    "plt.ylabel('Consumo')\n",
    "plt.title('Boxplot de Consumo')\n",
    "plt.show()\n",
    "\n",
    "# Estatísticas descritivas do consumo\n",
    "print(df['Consumo'].describe())\n",
    "\n",
    "\n"
   ]
  },
  {
   "cell_type": "markdown",
   "metadata": {},
   "source": [
    "Os valores do primeiro quartil (Q1) e terceiro quartil (Q3) são estatísticas que ajudam a descrever a dispersão dos dados em um conjunto. No caso da variável \"Consumo\", os valores do primeiro quartil e terceiro quartil podem ser obtidos da seguinte forma:\n",
    "\n",
    "Primeiro Quartil (Q1):\n",
    "Q1 é o valor abaixo do qual 25% dos dados estão. É o valor que divide os dados inferiores em um quarto da distribuição.\n",
    "Terceiro Quartil (Q3):\n",
    "Q3 é o valor abaixo do qual 75% dos dados estão. É o valor que divide os dados inferiores em três quartos da distribuição."
   ]
  },
  {
   "cell_type": "code",
   "execution_count": 87,
   "metadata": {},
   "outputs": [
    {
     "data": {
      "text/plain": [
       "(3903.0, 13444.0)"
      ]
     },
     "execution_count": 87,
     "metadata": {},
     "output_type": "execute_result"
    }
   ],
   "source": [
    "Q1 = df['Consumo'].quantile(0.25)\n",
    "Q3 = df['Consumo'].quantile(0.75)\n",
    "Q1, Q3"
   ]
  },
  {
   "cell_type": "code",
   "execution_count": 13,
   "metadata": {},
   "outputs": [
    {
     "name": "stdout",
     "output_type": "stream",
     "text": [
      "Possui_Imovel_Proprio  Nao  Sim\n",
      "Estado_Civil                   \n",
      "Casado                   6    2\n",
      "Divorciado               4    3\n",
      "Solteiro                10    4\n"
     ]
    }
   ],
   "source": [
    "# Tabela de contingência entre Estado Civil e Possui Imóvel Próprio\n",
    "tabela_contigencia = pd.crosstab(df['Estado_Civil'], df['Possui_Imovel_Proprio'])\n",
    "print(tabela_contigencia)\n",
    "\n"
   ]
  },
  {
   "cell_type": "code",
   "execution_count": 36,
   "metadata": {},
   "outputs": [
    {
     "data": {
      "text/plain": [
       "(29, 29)"
      ]
     },
     "execution_count": 36,
     "metadata": {},
     "output_type": "execute_result"
    }
   ],
   "source": [
    "df['Consumo'].size ,df['Possui_Imovel_Proprio'].size"
   ]
  },
  {
   "cell_type": "code",
   "execution_count": 40,
   "metadata": {},
   "outputs": [
    {
     "name": "stdout",
     "output_type": "stream",
     "text": [
      "Valor Qui-Quadrado: 0.6329365079365079\n",
      "Valor p: 0.7287181451019518\n"
     ]
    }
   ],
   "source": [
    "# Realizando o teste qui-quadrado\n",
    "chi2, p, _, _ = stats.chi2_contingency(tabela_contigencia)\n",
    "print(f'Valor Qui-Quadrado: {chi2}')\n",
    "print(f'Valor p: {p}')\n",
    "\n"
   ]
  },
  {
   "cell_type": "code",
   "execution_count": 88,
   "metadata": {},
   "outputs": [],
   "source": [
    "from scipy.stats import chi2_contingency\n",
    "\n",
    "# Crie a tabela de contingência\n",
    "contingency_table = pd.crosstab(df['Estado_Civil'], df['Possui_Imovel_Proprio'])\n",
    "\n",
    "# Execute o teste qui-quadrado\n",
    "chi2, p, dof, expected = chi2_contingency(contingency_table)\n"
   ]
  },
  {
   "cell_type": "code",
   "execution_count": 90,
   "metadata": {},
   "outputs": [
    {
     "data": {
      "text/html": [
       "<div>\n",
       "<style scoped>\n",
       "    .dataframe tbody tr th:only-of-type {\n",
       "        vertical-align: middle;\n",
       "    }\n",
       "\n",
       "    .dataframe tbody tr th {\n",
       "        vertical-align: top;\n",
       "    }\n",
       "\n",
       "    .dataframe thead th {\n",
       "        text-align: right;\n",
       "    }\n",
       "</style>\n",
       "<table border=\"1\" class=\"dataframe\">\n",
       "  <thead>\n",
       "    <tr style=\"text-align: right;\">\n",
       "      <th>Possui_Imovel_Proprio</th>\n",
       "      <th>Nao</th>\n",
       "      <th>Sim</th>\n",
       "    </tr>\n",
       "    <tr>\n",
       "      <th>Estado_Civil</th>\n",
       "      <th></th>\n",
       "      <th></th>\n",
       "    </tr>\n",
       "  </thead>\n",
       "  <tbody>\n",
       "    <tr>\n",
       "      <th>Casado</th>\n",
       "      <td>6</td>\n",
       "      <td>2</td>\n",
       "    </tr>\n",
       "    <tr>\n",
       "      <th>Divorciado</th>\n",
       "      <td>4</td>\n",
       "      <td>3</td>\n",
       "    </tr>\n",
       "    <tr>\n",
       "      <th>Solteiro</th>\n",
       "      <td>10</td>\n",
       "      <td>4</td>\n",
       "    </tr>\n",
       "  </tbody>\n",
       "</table>\n",
       "</div>"
      ],
      "text/plain": [
       "Possui_Imovel_Proprio  Nao  Sim\n",
       "Estado_Civil                   \n",
       "Casado                   6    2\n",
       "Divorciado               4    3\n",
       "Solteiro                10    4"
      ]
     },
     "execution_count": 90,
     "metadata": {},
     "output_type": "execute_result"
    }
   ],
   "source": [
    "contingency_table"
   ]
  },
  {
   "cell_type": "code",
   "execution_count": 89,
   "metadata": {},
   "outputs": [
    {
     "data": {
      "text/plain": [
       "(0.6329365079365079,\n",
       " 0.7287181451019518,\n",
       " 2,\n",
       " array([[5.51724138, 2.48275862],\n",
       "        [4.82758621, 2.17241379],\n",
       "        [9.65517241, 4.34482759]]))"
      ]
     },
     "execution_count": 89,
     "metadata": {},
     "output_type": "execute_result"
    }
   ],
   "source": [
    "chi2, p, dof, expected "
   ]
  },
  {
   "cell_type": "code",
   "execution_count": 39,
   "metadata": {},
   "outputs": [
    {
     "data": {
      "image/png": "[encoded data removed]",
      "text/plain": [
       "<Figure size 640x480 with 1 Axes>"
      ]
     },
     "metadata": {},
     "output_type": "display_data"
    }
   ],
   "source": [
    "import matplotlib.pyplot as plt\n",
    "\n",
    "# Boxplot entre Consumo e Possui Imóvel Próprio\n",
    "\n",
    "boxplot = df.boxplot(column='Consumo', by='Possui_Imovel_Proprio', vert=False, patch_artist=True)\n",
    "ax.set_xlabel('Consumo')\n",
    "ax.set_ylabel('Possui Imóvel Próprio')\n",
    "ax.set_title('Boxplot de Consumo por Possui Imóvel Próprio')\n",
    "plt.show()\n"
   ]
  },
  {
   "cell_type": "markdown",
   "metadata": {},
   "source": [
    "Para verificar se o modelo de regressão linear ajustado é válido, é necessário realizar algumas análises.\n",
    "\n",
    "Coeficientes dos Predictores: Os coeficientes da idade e da renda mensal no modelo de regressão devem ser estatisticamente significativos. Você pode verificar isso pelos valores de p, que são tipicamente fornecidos na saída da regressão. Valores de p menores que o nível de significância (geralmente 0,05) indicam que os coeficientes são estatisticamente significativos.\n",
    "\n",
    "Coeficiente de Determinação (R²): O R² indica a proporção da variabilidade no consumo que é explicada pelo modelo. Um R² alto sugere que o modelo ajustado está capturando uma parcela significativa da variabilidade nos dados.\n",
    "\n",
    "Resíduos: Os resíduos da regressão devem seguir uma distribuição normal, não devem exibir um padrão óbvio de não linearidade e não devem mostrar heterocedasticidade (variação não constante).\n",
    "\n",
    "Teste de Normalidade dos Resíduos: É importante realizar um teste de normalidade nos resíduos. Um teste de Shapiro-Wilk ou Kolmogorov-Smirnov pode ser usado para verificar se os resíduos seguem uma distribuição normal.\n",
    "\n",
    "Gráfico dos Resíduos: Um gráfico de resíduos, como um gráfico quantil-quantil (Q-Q plot), pode ajudar a identificar desvios da normalidade."
   ]
  },
  {
   "cell_type": "code",
   "execution_count": 41,
   "metadata": {},
   "outputs": [
    {
     "name": "stdout",
     "output_type": "stream",
     "text": [
      "Valor t: -0.3435108785266327\n",
      "Valor p: 0.7338747482364015\n"
     ]
    },
    {
     "data": {
      "image/png": "[encoded data removed]",
      "text/plain": [
       "<Figure size 640x480 with 1 Axes>"
      ]
     },
     "metadata": {},
     "output_type": "display_data"
    },
    {
     "name": "stdout",
     "output_type": "stream",
     "text": [
      "Coeficiente de Correlação entre Consumo e Idade: 0.939911979966732\n"
     ]
    }
   ],
   "source": [
    "\n",
    "# Teste t de Student entre Consumo e Possui Imóvel Próprio\n",
    "imovel_proprio = df[df['Possui_Imovel_Proprio'] == 'Sim']['Consumo']\n",
    "nao_imovel_proprio = df[df['Possui_Imovel_Proprio'] == 'Nao']['Consumo']\n",
    "t_stat, p_value = stats.ttest_ind(imovel_proprio, nao_imovel_proprio)\n",
    "print(f'Valor t: {t_stat}')\n",
    "print(f'Valor p: {p_value}')\n",
    "\n",
    "# Gráfico de dispersão entre Consumo e Idade\n",
    "plt.scatter(df['Idade'], df['Consumo'], marker='o')\n",
    "plt.xlabel('Idade')\n",
    "plt.ylabel('Consumo')\n",
    "plt.title('Gráfico de Dispersão entre Consumo e Idade')\n",
    "plt.show()\n",
    "\n",
    "# Coeficiente de correlação entre Consumo e Idade\n",
    "correlacao = df['Consumo'].corr(df['Idade'])\n",
    "print(f'Coeficiente de Correlação entre Consumo e Idade: {correlacao}')"
   ]
  },
  {
   "cell_type": "code",
   "execution_count": 93,
   "metadata": {},
   "outputs": [
    {
     "name": "stdout",
     "output_type": "stream",
     "text": [
      "Não temos evidência para rejeitar a hipótese nula (H0)\n",
      "Não existe uma diferença significativa entre os grupos.\n"
     ]
    }
   ],
   "source": [
    "from scipy import stats\n",
    "\n",
    "# Dividindo os dados em dois grupos com base em \"Possui Imóvel Próprio\"\n",
    "consumo_com_imovel = df[df['Possui_Imovel_Proprio'] == 'Sim']['Consumo']\n",
    "consumo_sem_imovel = df[df['Possui_Imovel_Proprio'] == 'Nao']['Consumo']\n",
    "\n",
    "# Realizando o teste t de Student\n",
    "t_stat, p_value = stats.ttest_ind(consumo_com_imovel, consumo_sem_imovel)\n",
    "\n",
    "# Definindo o nível de confiança\n",
    "alpha = 0.05\n",
    "\n",
    "# Verificando o resultado do teste\n",
    "if p_value < alpha:\n",
    "    print(\"Rejeitamos a hipótese nula (H0)\")\n",
    "    print(\"Existe uma diferença significativa entre os grupos.\")\n",
    "else:\n",
    "    print(\"Não temos evidência para rejeitar a hipótese nula (H0)\")\n",
    "    print(\"Não existe uma diferença significativa entre os grupos.\")\n"
   ]
  },
  {
   "cell_type": "code",
   "execution_count": 95,
   "metadata": {},
   "outputs": [
    {
     "name": "stdout",
     "output_type": "stream",
     "text": [
      "                            OLS Regression Results                            \n",
      "==============================================================================\n",
      "Dep. Variable:                Consumo   R-squared:                       0.883\n",
      "Model:                            OLS   Adj. R-squared:                  0.879\n",
      "Method:                 Least Squares   F-statistic:                     204.6\n",
      "Date:                Sun, 29 Oct 2023   Prob (F-statistic):           4.04e-14\n",
      "Time:                        16:44:32   Log-Likelihood:                -279.10\n",
      "No. Observations:                  29   AIC:                             562.2\n",
      "Df Residuals:                      27   BIC:                             564.9\n",
      "Df Model:                           1                                         \n",
      "Covariance Type:            nonrobust                                         \n",
      "==============================================================================\n",
      "                 coef    std err          t      P>|t|      [0.025      0.975]\n",
      "------------------------------------------------------------------------------\n",
      "const      -1.325e+04   1895.094     -6.992      0.000   -1.71e+04   -9361.665\n",
      "Idade        652.8699     45.640     14.305      0.000     559.225     746.515\n",
      "==============================================================================\n",
      "Omnibus:                        2.063   Durbin-Watson:                   1.963\n",
      "Prob(Omnibus):                  0.357   Jarque-Bera (JB):                1.672\n",
      "Skew:                          -0.437   Prob(JB):                        0.434\n",
      "Kurtosis:                       2.213   Cond. No.                         112.\n",
      "==============================================================================\n",
      "\n",
      "Notes:\n",
      "[1] Standard Errors assume that the covariance matrix of the errors is correctly specified.\n",
      "O R² da regressão linear é: 0.88\n"
     ]
    }
   ],
   "source": [
    "import numpy as np\n",
    "import statsmodels.api as sm\n",
    "\n",
    "# Preparar os dados\n",
    "X = df['Idade']\n",
    "y = df['Consumo']\n",
    "\n",
    "# Adicionar uma constante para calcular o termo de interceptação\n",
    "X = sm.add_constant(X)\n",
    "\n",
    "# Ajustar o modelo de regressão linear\n",
    "modelo = sm.OLS(y, X).fit()\n",
    "\n",
    "# Obter os resultados da regressão\n",
    "resultado_regressao = modelo.summary()\n",
    "\n",
    "# Extrair o valor de R²\n",
    "r_squared = modelo.rsquared\n",
    "\n",
    "# Interpretar o R²\n",
    "print(resultado_regressao)\n",
    "print(f\"O R² da regressão linear é: {r_squared:.2f}\")\n"
   ]
  },
  {
   "cell_type": "code",
   "execution_count": 96,
   "metadata": {},
   "outputs": [
    {
     "name": "stdout",
     "output_type": "stream",
     "text": [
      "Os resíduos seguem uma distribuição normal.\n"
     ]
    }
   ],
   "source": [
    "from scipy import stats\n",
    "\n",
    "# Dados da regressão\n",
    "y = df['Consumo']\n",
    "X = df['Idade']\n",
    "\n",
    "# Ajuste o modelo de regressão\n",
    "modelo = sm.OLS(y, sm.add_constant(X)).fit()\n",
    "\n",
    "# Calcule os resíduos\n",
    "residuos = modelo.resid\n",
    "\n",
    "# Execute o teste de Shapiro-Wilk\n",
    "shapiro_test = stats.shapiro(residuos)\n",
    "\n",
    "# Obtenha o valor-p do teste\n",
    "valor_p = shapiro_test[1]\n",
    "\n",
    "# Defina o nível de confiança\n",
    "nivel_confianca = 0.95\n",
    "\n",
    "# Compare o valor-p com o nível de confiança\n",
    "if valor_p < (1 - nivel_confianca):\n",
    "    print(\"Os resíduos NÃO seguem uma distribuição normal.\")\n",
    "else:\n",
    "    print(\"Os resíduos seguem uma distribuição normal.\")\n"
   ]
  },
  {
   "cell_type": "code",
   "execution_count": 97,
   "metadata": {},
   "outputs": [
    {
     "data": {
      "text/plain": [
       "0.2417815923690796"
      ]
     },
     "execution_count": 97,
     "metadata": {},
     "output_type": "execute_result"
    }
   ],
   "source": [
    "valor_p "
   ]
  },
  {
   "cell_type": "code",
   "execution_count": 43,
   "metadata": {},
   "outputs": [
    {
     "name": "stdout",
     "output_type": "stream",
     "text": [
      "Regressão Linear (Consumo ~ Idade):\n",
      "Coeficiente Angular (Beta1): 652.869887970395\n",
      "Coeficiente Linear (Beta0): -13250.077509038087\n",
      "Coeficiente de Determinação (R-squared): 0.8834345300849827\n",
      "Valor p do teste F: 4.035421811975757e-14\n"
     ]
    }
   ],
   "source": [
    "# Ajuste de uma regressão linear de Consumo em função da Idade\n",
    "regressao_linear_idade = stats.linregress(df['Idade'], df['Consumo'])\n",
    "print(f'Regressão Linear (Consumo ~ Idade):')\n",
    "print(f'Coeficiente Angular (Beta1): {regressao_linear_idade.slope}')\n",
    "print(f'Coeficiente Linear (Beta0): {regressao_linear_idade.intercept}')\n",
    "print(f'Coeficiente de Determinação (R-squared): {regressao_linear_idade.rvalue ** 2}')\n",
    "print(f'Valor p do teste F: {regressao_linear_idade.pvalue}')\n",
    "\n"
   ]
  },
  {
   "cell_type": "code",
   "execution_count": 45,
   "metadata": {},
   "outputs": [
    {
     "name": "stdout",
     "output_type": "stream",
     "text": [
      "Teste de Shapiro-Wilk para Normalidade dos Resíduos:\n",
      "Estatística de Teste: 0.9546902775764465\n",
      "Valor p: 0.2417815923690796\n",
      "count      29.000000\n",
      "mean     3964.729310\n",
      "std      2106.342407\n",
      "min      1635.650000\n",
      "25%      2291.880000\n",
      "50%      3575.980000\n",
      "75%      5714.550000\n",
      "max      8534.720000\n",
      "Name: Renda_Mensal, dtype: float64\n"
     ]
    }
   ],
   "source": [
    "\n",
    "# Teste de normalidade para os resíduos da regressão linear\n",
    "residuos = df['Consumo'] - (regressao_linear_idade.slope * df['Idade'] + regressao_linear_idade.intercept)\n",
    "shapiro_test = stats.shapiro(residuos)\n",
    "print(f'Teste de Shapiro-Wilk para Normalidade dos Resíduos:')\n",
    "print(f'Estatística de Teste: {shapiro_test.statistic}')\n",
    "print(f'Valor p: {shapiro_test.pvalue}')\n",
    "\n",
    "# Exploração da variável Renda Mensal\n",
    "print(df['Renda_Mensal'].describe())\n",
    "\n"
   ]
  },
  {
   "cell_type": "code",
   "execution_count": 58,
   "metadata": {},
   "outputs": [
    {
     "data": {
      "text/html": [
       "<div>\n",
       "<style scoped>\n",
       "    .dataframe tbody tr th:only-of-type {\n",
       "        vertical-align: middle;\n",
       "    }\n",
       "\n",
       "    .dataframe tbody tr th {\n",
       "        vertical-align: top;\n",
       "    }\n",
       "\n",
       "    .dataframe thead th {\n",
       "        text-align: right;\n",
       "    }\n",
       "</style>\n",
       "<table border=\"1\" class=\"dataframe\">\n",
       "  <thead>\n",
       "    <tr style=\"text-align: right;\">\n",
       "      <th></th>\n",
       "      <th>0</th>\n",
       "      <th>1</th>\n",
       "      <th>2</th>\n",
       "      <th>3</th>\n",
       "      <th>4</th>\n",
       "      <th>5</th>\n",
       "      <th>6</th>\n",
       "      <th>7</th>\n",
       "      <th>8</th>\n",
       "      <th>9</th>\n",
       "      <th>...</th>\n",
       "      <th>19</th>\n",
       "      <th>20</th>\n",
       "      <th>21</th>\n",
       "      <th>22</th>\n",
       "      <th>23</th>\n",
       "      <th>24</th>\n",
       "      <th>25</th>\n",
       "      <th>26</th>\n",
       "      <th>27</th>\n",
       "      <th>28</th>\n",
       "    </tr>\n",
       "  </thead>\n",
       "  <tbody>\n",
       "    <tr>\n",
       "      <th>Idade</th>\n",
       "      <td>20.26</td>\n",
       "      <td>32.11</td>\n",
       "      <td>31.75</td>\n",
       "      <td>37.82</td>\n",
       "      <td>71.21</td>\n",
       "      <td>29.72</td>\n",
       "      <td>44.81</td>\n",
       "      <td>35.84</td>\n",
       "      <td>58.84</td>\n",
       "      <td>39.92</td>\n",
       "      <td>...</td>\n",
       "      <td>39.92</td>\n",
       "      <td>37.91</td>\n",
       "      <td>23.36</td>\n",
       "      <td>54.99</td>\n",
       "      <td>61.30</td>\n",
       "      <td>34.59</td>\n",
       "      <td>29.72</td>\n",
       "      <td>19.26</td>\n",
       "      <td>20.26</td>\n",
       "      <td>37.81</td>\n",
       "    </tr>\n",
       "    <tr>\n",
       "      <th>Renda_Mensal</th>\n",
       "      <td>1985.88</td>\n",
       "      <td>3769.25</td>\n",
       "      <td>2291.88</td>\n",
       "      <td>2390.40</td>\n",
       "      <td>8534.72</td>\n",
       "      <td>2495.89</td>\n",
       "      <td>5714.55</td>\n",
       "      <td>5832.63</td>\n",
       "      <td>6882.89</td>\n",
       "      <td>2099.32</td>\n",
       "      <td>...</td>\n",
       "      <td>4364.56</td>\n",
       "      <td>1905.54</td>\n",
       "      <td>2338.31</td>\n",
       "      <td>5832.63</td>\n",
       "      <td>6882.89</td>\n",
       "      <td>3842.54</td>\n",
       "      <td>4919.15</td>\n",
       "      <td>2063.01</td>\n",
       "      <td>2380.56</td>\n",
       "      <td>1985.88</td>\n",
       "    </tr>\n",
       "  </tbody>\n",
       "</table>\n",
       "<p>2 rows × 29 columns</p>\n",
       "</div>"
      ],
      "text/plain": [
       "                   0        1        2        3        4        5        6    \n",
       "Idade           20.26    32.11    31.75    37.82    71.21    29.72    44.81  \\\n",
       "Renda_Mensal  1985.88  3769.25  2291.88  2390.40  8534.72  2495.89  5714.55   \n",
       "\n",
       "                   7        8        9   ...       19       20       21   \n",
       "Idade           35.84    58.84    39.92  ...    39.92    37.91    23.36  \\\n",
       "Renda_Mensal  5832.63  6882.89  2099.32  ...  4364.56  1905.54  2338.31   \n",
       "\n",
       "                   22       23       24       25       26       27       28  \n",
       "Idade           54.99    61.30    34.59    29.72    19.26    20.26    37.81  \n",
       "Renda_Mensal  5832.63  6882.89  3842.54  4919.15  2063.01  2380.56  1985.88  \n",
       "\n",
       "[2 rows x 29 columns]"
      ]
     },
     "execution_count": 58,
     "metadata": {},
     "output_type": "execute_result"
    }
   ],
   "source": [
    "df[['Idade', 'Renda_Mensal']].T "
   ]
  },
  {
   "cell_type": "code",
   "execution_count": 84,
   "metadata": {},
   "outputs": [
    {
     "name": "stdout",
     "output_type": "stream",
     "text": [
      "Regressão Linear (Consumo ~ Idade + Renda Mensal):\n",
      "Coeficiente Angular (Beta1): 116.11467520788959\n",
      "Coeficiente Linear (Beta0): -511.2912212034412\n",
      "Coeficiente de Determinação (R-squared): 0.7496767216600532\n",
      "Valor p do teste F: 1.31732738030074e-09\n"
     ]
    }
   ],
   "source": [
    "regressao_linear_idade_renda = stats.linregress(x=df[['Idade', 'Renda_Mensal']].T)\n",
    "print(f'Regressão Linear (Consumo ~ Idade + Renda Mensal):')\n",
    "print(f'Coeficiente Angular (Beta1): {regressao_linear_idade_renda.slope}')\n",
    "print(f'Coeficiente Linear (Beta0): {regressao_linear_idade_renda.intercept}')\n",
    "print(f'Coeficiente de Determinação (R-squared): {regressao_linear_idade_renda.rvalue ** 2}')\n",
    "print(f'Valor p do teste F: {regressao_linear_idade_renda.pvalue}')\n"
   ]
  },
  {
   "cell_type": "code",
   "execution_count": 86,
   "metadata": {},
   "outputs": [
    {
     "name": "stdout",
     "output_type": "stream",
     "text": [
      "Regressão Linear (Consumo ~ Idade):\n",
      "Coeficiente Angular (Beta1): 652.869887970395\n",
      "Coeficiente Linear (Beta0): -13250.077509038087\n",
      "Coeficiente de Determinação (R-squared): 0.8834345300849827\n",
      "Valor p do teste F: 4.035421811975757e-14\n",
      "Regressão Linear (Consumo ~ Renda Mensal):\n",
      "Coeficiente Angular (Beta1): 4.872104271793305\n",
      "Coeficiente Linear (Beta0): -7399.643574952397\n",
      "Coeficiente de Determinação (R-squared): 0.8848190006673231\n",
      "Valor p do teste F: 3.431803043083129e-14\n"
     ]
    }
   ],
   "source": [
    "regressao_linear_idade = stats.linregress(df['Idade'], df['Consumo'])\n",
    "regressao_linear_renda = stats.linregress(df['Renda_Mensal'], df['Consumo'])\n",
    "\n",
    "print(f'Regressão Linear (Consumo ~ Idade):')\n",
    "print(f'Coeficiente Angular (Beta1): {regressao_linear_idade.slope}')\n",
    "print(f'Coeficiente Linear (Beta0): {regressao_linear_idade.intercept}')\n",
    "print(f'Coeficiente de Determinação (R-squared): {regressao_linear_idade.rvalue ** 2}')\n",
    "print(f'Valor p do teste F: {regressao_linear_idade.pvalue}')\n",
    "\n",
    "print(f'Regressão Linear (Consumo ~ Renda Mensal):')\n",
    "print(f'Coeficiente Angular (Beta1): {regressao_linear_renda.slope}')\n",
    "print(f'Coeficiente Linear (Beta0): {regressao_linear_renda.intercept}')\n",
    "print(f'Coeficiente de Determinação (R-squared): {regressao_linear_renda.rvalue ** 2}')\n",
    "print(f'Valor p do teste F: {regressao_linear_renda.pvalue}')\n"
   ]
  },
  {
   "cell_type": "code",
   "execution_count": 98,
   "metadata": {},
   "outputs": [
    {
     "name": "stdout",
     "output_type": "stream",
     "text": [
      "Primeiro Quartil (Q1): 2291.88\n"
     ]
    }
   ],
   "source": [
    "Q1 = df['Renda_Mensal'].quantile(0.25)\n",
    "print(\"Primeiro Quartil (Q1):\", Q1)\n"
   ]
  }
 ],
 "metadata": {
  "kernelspec": {
   "display_name": "Python 3",
   "language": "python",
   "name": "python3"
  },
  "language_info": {
   "codemirror_mode": {
    "name": "ipython",
    "version": 3
   },
   "file_extension": ".py",
   "mimetype": "text/x-python",
   "name": "python",
   "nbconvert_exporter": "python",
   "pygments_lexer": "ipython3",
   "version": "3.11.3"
  }
 },
 "nbformat": 4,
 "nbformat_minor": 2
}
